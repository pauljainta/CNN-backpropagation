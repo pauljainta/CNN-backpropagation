{
  "nbformat": 4,
  "nbformat_minor": 0,
  "metadata": {
    "colab": {
      "name": "CNN Backprop.ipynb",
      "provenance": [],
      "authorship_tag": "ABX9TyMSbqsBY1sTrpeS9gVN75of",
      "include_colab_link": true
    },
    "kernelspec": {
      "name": "python3",
      "display_name": "Python 3"
    },
    "language_info": {
      "name": "python"
    }
  },
  "cells": [
    {
      "cell_type": "markdown",
      "metadata": {
        "id": "view-in-github",
        "colab_type": "text"
      },
      "source": [
        "<a href=\"https://colab.research.google.com/github/pauljainta/CNN-backpropagation/blob/main/CNN_Backprop.ipynb\" target=\"_parent\"><img src=\"https://colab.research.google.com/assets/colab-badge.svg\" alt=\"Open In Colab\"/></a>"
      ]
    },
    {
      "cell_type": "code",
      "execution_count": null,
      "metadata": {
        "id": "S6QTBZNebEW7"
      },
      "outputs": [],
      "source": [
        "from tensorflow.keras import datasets\n",
        "import numpy as np\n",
        "import matplotlib.pyplot as plt\n",
        "import math\n"
      ]
    },
    {
      "cell_type": "markdown",
      "source": [
        "**LOAD DATA**"
      ],
      "metadata": {
        "id": "9Ql-24Zjb_UG"
      }
    },
    {
      "cell_type": "code",
      "source": [
        "(x_train_mnist, y_train_mnist), (x_test_mnist, y_test_mnist) = datasets.mnist.load_data()"
      ],
      "metadata": {
        "id": "LroboPpLb-RP"
      },
      "execution_count": null,
      "outputs": []
    },
    {
      "cell_type": "code",
      "source": [
        "# y_train_mnist = y_train_mnist.reshape(-1 , 1)\n",
        "# y_test_mnist = y_test_mnist.reshape(-1 , 1)\n",
        "\n",
        "\n",
        "print(x_train_mnist.shape)\n",
        "print(y_train_mnist.shape)\n",
        "print(y_test_mnist.shape)\n"
      ],
      "metadata": {
        "colab": {
          "base_uri": "https://localhost:8080/"
        },
        "id": "wRI1R5hQcqvB",
        "outputId": "b6be901f-f73a-4396-c421-9305d15f74f5"
      },
      "execution_count": null,
      "outputs": [
        {
          "output_type": "stream",
          "name": "stdout",
          "text": [
            "(60000, 28, 28)\n",
            "(60000,)\n",
            "(10000,)\n"
          ]
        }
      ]
    },
    {
      "cell_type": "code",
      "source": [
        "plt.ylabel(\"Image\")\n",
        "plt.imshow(x_train_mnist[10, :], cmap='gray')"
      ],
      "metadata": {
        "colab": {
          "base_uri": "https://localhost:8080/",
          "height": 283
        },
        "id": "nzPt0JKterSZ",
        "outputId": "578a7e4b-5223-4d77-8e8b-2b164b721f0d"
      },
      "execution_count": null,
      "outputs": [
        {
          "output_type": "execute_result",
          "data": {
            "text/plain": [
              "<matplotlib.image.AxesImage at 0x7f6acf053610>"
            ]
          },
          "metadata": {},
          "execution_count": 121
        },
        {
          "output_type": "display_data",
          "data": {
            "image/png": "[encoded data removed]",
            "text/plain": [
              "<Figure size 432x288 with 1 Axes>"
            ]
          },
          "metadata": {
            "needs_background": "light"
          }
        }
      ]
    },
    {
      "cell_type": "code",
      "source": [
        "type(x_train_mnist)"
      ],
      "metadata": {
        "colab": {
          "base_uri": "https://localhost:8080/"
        },
        "id": "cnaeaR_2jmic",
        "outputId": "843e75c6-9f0f-403c-9ab0-58ba75b38882"
      },
      "execution_count": null,
      "outputs": [
        {
          "output_type": "execute_result",
          "data": {
            "text/plain": [
              "numpy.ndarray"
            ]
          },
          "metadata": {},
          "execution_count": 122
        }
      ]
    },
    {
      "cell_type": "code",
      "source": [
        "x_train_mnist = x_train_mnist[ :,np.newaxis]\n",
        "print(x_train_mnist.shape)\n",
        "\n"
      ],
      "metadata": {
        "colab": {
          "base_uri": "https://localhost:8080/"
        },
        "id": "peYrqwcmjrj6",
        "outputId": "78b802d9-0ebb-4a4f-ad26-a866495d52fe"
      },
      "execution_count": null,
      "outputs": [
        {
          "output_type": "stream",
          "name": "stdout",
          "text": [
            "(60000, 1, 28, 28)\n"
          ]
        }
      ]
    },
    {
      "cell_type": "code",
      "source": [
        "x_test_mnist = x_test_mnist[ :,np.newaxis]\n",
        "print(x_test_mnist.shape)\n",
        "print(y_test_mnist.shape)\n",
        "size_of_each_batch = 32"
      ],
      "metadata": {
        "colab": {
          "base_uri": "https://localhost:8080/"
        },
        "id": "Mz6PR8TCt4_q",
        "outputId": "858ac63c-b740-4ea2-8754-73cff8ada1c8"
      },
      "execution_count": null,
      "outputs": [
        {
          "output_type": "stream",
          "name": "stdout",
          "text": [
            "(10000, 1, 28, 28)\n",
            "(10000,)\n"
          ]
        }
      ]
    },
    {
      "cell_type": "code",
      "source": [
        "def Batch_Creation(x , y):\n",
        "  \n",
        "    global size_of_each_batch\n",
        "\n",
        "    total_number_of_batches = int(math.floor(y.shape[0] / size_of_each_batch))\n",
        "    list_of_mini_batches = []\n",
        "\n",
        "    for i in range(total_number_of_batches):\n",
        "      if y.shape[0] % size_of_each_batch != 0 and i == total_number_of_batches-1 :\n",
        "        list_of_mini_batches.append((x[i*size_of_each_batch:, :] , y[i*size_of_each_batch:] ))\n",
        "\n",
        "      list_of_mini_batches.append((x[i*size_of_each_batch:(i+1)*size_of_each_batch , :] , y[i*size_of_each_batch:(i+1)*size_of_each_batch]))\n",
        "   \n",
        "    return list_of_mini_batches\n"
      ],
      "metadata": {
        "id": "6LEtKzgWbWlI"
      },
      "execution_count": null,
      "outputs": []
    },
    {
      "cell_type": "code",
      "source": [
        "# size_of_each_batch = 128\n",
        "# batches = Batch_Creation(x_train_mnist , y_train_mnist)\n",
        "# print(len(batches))\n",
        "# print(batches[0][1].shape)"
      ],
      "metadata": {
        "id": "hBta9-0SejXr"
      },
      "execution_count": null,
      "outputs": []
    },
    {
      "cell_type": "code",
      "source": [
        "def zero_padding(x , padding):\n",
        "  return np.pad(x, ((0, 0), (0, 0), (padding, padding), (padding, padding)), mode='constant')"
      ],
      "metadata": {
        "id": "mwM0FHHQhMgS"
      },
      "execution_count": null,
      "outputs": []
    },
    {
      "cell_type": "code",
      "source": [
        "np.random.seed(1)\n",
        "x = np.random.randn(4, 3, 3, 2)\n",
        "x_pad = zero_padding(x, 2)\n",
        "print (\"x.shape =\\n\", x.shape)\n",
        "print (\"x_pad.shape =\\n\", x_pad.shape)\n",
        "print (\"x[1,1] =\\n\", x[1,1])\n",
        "print (\"x_pad[1,1] =\\n\", x_pad[1,1])"
      ],
      "metadata": {
        "colab": {
          "base_uri": "https://localhost:8080/"
        },
        "id": "w9qHV78Fhn43",
        "outputId": "3baf22e3-1d4a-4ce1-8526-1fd10aa96b8c"
      },
      "execution_count": null,
      "outputs": [
        {
          "output_type": "stream",
          "name": "stdout",
          "text": [
            "x.shape =\n",
            " (4, 3, 3, 2)\n",
            "x_pad.shape =\n",
            " (4, 3, 7, 6)\n",
            "x[1,1] =\n",
            " [[ 0.90085595 -0.68372786]\n",
            " [-0.12289023 -0.93576943]\n",
            " [-0.26788808  0.53035547]]\n",
            "x_pad[1,1] =\n",
            " [[ 0.          0.          0.          0.          0.          0.        ]\n",
            " [ 0.          0.          0.          0.          0.          0.        ]\n",
            " [ 0.          0.          0.90085595 -0.68372786  0.          0.        ]\n",
            " [ 0.          0.         -0.12289023 -0.93576943  0.          0.        ]\n",
            " [ 0.          0.         -0.26788808  0.53035547  0.          0.        ]\n",
            " [ 0.          0.          0.          0.          0.          0.        ]\n",
            " [ 0.          0.          0.          0.          0.          0.        ]]\n"
          ]
        }
      ]
    },
    {
      "cell_type": "code",
      "source": [
        "def convolutional_layer_forward(stride , padding , w , b , x):\n",
        "\n",
        "    padded_x = zero_padding(x , padding)\n",
        "\n",
        "    N = x.shape[0]\n",
        "    C = x.shape[1]\n",
        "    H = x.shape[2]\n",
        "    W = x.shape[3]\n",
        "\n",
        "    F = w.shape[0]\n",
        "    FH = w.shape[2]\n",
        "    FW = w.shape[3]\n",
        "\n",
        "    W2 = int((W - FW + 2*padding)/stride + 1)\n",
        "    H2 = int((H - FH + 2*padding)/stride + 1)\n",
        "\n",
        "    all_selected_column_x = np.zeros((C * FH * FW, H2 * W2))\n",
        "    all_selected_row_w = w.reshape(F, C * FH * FW)\n",
        "\n",
        "    output = np.zeros((N, F, H2, W2))\n",
        "\n",
        "\n",
        "    for i in range(N):\n",
        "        column = 0\n",
        "        for j in range(0, padded_x.shape[2] + 1 - FH, stride):\n",
        "            for k in range(0, padded_x.shape[3]  + 1 - FW, stride):\n",
        "                temp = padded_x[i, :, j:j+FH, k:k+FW]\n",
        "                all_selected_column_x[:, column] = temp.reshape(C * FH * FW)\n",
        "                column += 1\n",
        "        \n",
        "        current_unit_output = np.dot(all_selected_row_w, all_selected_column_x) + (b.reshape(-1, 1))\n",
        "        output[i, :, :, :] = current_unit_output.reshape(F, H2, W2)\n",
        "\n",
        "  \n",
        "    return output, (stride, padding , w , b , x)\n"
      ],
      "metadata": {
        "id": "AP_OCVEciATJ"
      },
      "execution_count": null,
      "outputs": []
    },
    {
      "cell_type": "code",
      "source": [
        "# w1 = np.random.normal(0.0, 0.01, (6, 1, 5, 5))\n",
        "# b1 = np.zeros((6, ))\n",
        "\n",
        "# out1 , cache1 = convolutional_layer_forward(1 , 2 , w1 , b1 , batches[0][0])\n",
        "\n",
        "# print(out1.shape)"
      ],
      "metadata": {
        "id": "RQnQq1xtpNq6"
      },
      "execution_count": null,
      "outputs": []
    },
    {
      "cell_type": "code",
      "source": [
        "def relu_forward(x):\n",
        "  return np.maximum(0 , x) , x"
      ],
      "metadata": {
        "id": "hXUD_fImx01E"
      },
      "execution_count": null,
      "outputs": []
    },
    {
      "cell_type": "code",
      "source": [
        "# out2 , cache2 = relu_forward(out1)\n",
        "\n",
        "# print(out2[0])"
      ],
      "metadata": {
        "id": "pyzWsRndyRuX"
      },
      "execution_count": null,
      "outputs": []
    },
    {
      "cell_type": "code",
      "source": [
        "def pooling_layer_forward(stride , filter_dimension , x):\n",
        "  N = x.shape[0]\n",
        "  C = x.shape[1]\n",
        "  H = x.shape[2]\n",
        "  W = x.shape[3]\n",
        "\n",
        "  H2 = math.floor((H - filter_dimension) / stride) + 1\n",
        "  W2 = math.floor((W - filter_dimension) / stride) + 1\n",
        "\n",
        "  output = np.zeros((N, C, H2, W2))\n",
        "\n",
        "  for i in range(N):\n",
        "      current_unit_output = np.zeros((C, H2* W2))\n",
        "      column = 0\n",
        "      for j in range(0, H - filter_dimension + 1, stride):\n",
        "          for k in range(0, W - filter_dimension + 1, stride):\n",
        "              selected_block_of_x = x[i, :, j:j+filter_dimension, k:k+filter_dimension]\n",
        "              selected_block_of_x = selected_block_of_x.reshape(C, filter_dimension ** 2)\n",
        "\n",
        "              max_value_from_current_block = np.max(selected_block_of_x, axis=1)\n",
        "              current_unit_output[:, column] = max_value_from_current_block\n",
        "\n",
        "              column += 1\n",
        "              \n",
        "      output[i, :, :, :] = current_unit_output.reshape(C, H2 , W2)\n",
        "\n",
        "  return output, (filter_dimension , stride , x) \n"
      ],
      "metadata": {
        "id": "hUH7Ff5WsC_P"
      },
      "execution_count": null,
      "outputs": []
    },
    {
      "cell_type": "code",
      "source": [
        "# out3 , cache3 = pooling_layer_forward(2 , 2 , out2)\n",
        "\n",
        "# print(out3.shape)\n",
        "# print(out3[0])"
      ],
      "metadata": {
        "id": "ugdwAWpuwAuq"
      },
      "execution_count": null,
      "outputs": []
    },
    {
      "cell_type": "code",
      "source": [
        "def fc_layer_forward(x, w, b):\n",
        "  N = x.shape[0]\n",
        "  C = x.shape[1]\n",
        "  H = x.shape[2]\n",
        "  W = x.shape[3]\n",
        " \n",
        "  \n",
        "  return np.dot(x.reshape(N , C * H * W) , w) + b , (w , b , x) "
      ],
      "metadata": {
        "id": "EL__PmvC2wqS"
      },
      "execution_count": null,
      "outputs": []
    },
    {
      "cell_type": "code",
      "source": [
        "# w2 = np.random.normal(0.0, 0.01, (6*14*14, 10))\n",
        "# b2 = np.zeros((10, ))\n",
        "\n",
        "# out4 , cache4 = fc_layer_forward(out3 , w2 , b2)\n",
        "# print(out4.shape)\n"
      ],
      "metadata": {
        "id": "bsAW1yiF6Mno"
      },
      "execution_count": null,
      "outputs": []
    },
    {
      "cell_type": "code",
      "source": [
        "def softmax_activation(predict , y_hat , y):\n",
        "  y_hat = y_hat - np.max(y_hat, axis=1, keepdims=True)\n",
        "  \n",
        "  probs = np.exp(y_hat) / np.sum(np.exp(y_hat) , axis = 1 , keepdims=True)\n",
        "\n",
        "  if predict == True:\n",
        "    return probs\n",
        "\n",
        "  No_of_samples = probs.shape[0]\n",
        "    \n",
        "  average_loss = np.sum(np.log(probs[np.arange(No_of_samples), y])) / No_of_samples\n",
        "\n",
        "  average_loss = average_loss * (-1)\n",
        "\n",
        "  derivative = np.copy(probs)\n",
        "  derivative[np.arange(No_of_samples), y] -= 1\n",
        "  # derivative = probs[np.arange(No_of_samples), y] - 1\n",
        "\n",
        "  return probs ,  average_loss, derivative / No_of_samples "
      ],
      "metadata": {
        "id": "CjJlq-zc759C"
      },
      "execution_count": null,
      "outputs": []
    },
    {
      "cell_type": "code",
      "source": [
        "# probs , average_loss , derivative = softmax_activation(False , out4 , batches[0][1])\n",
        "\n",
        "# print(probs[0])\n",
        "# print(derivative[0])\n",
        "# print(average_loss)"
      ],
      "metadata": {
        "id": "vRYLA0t2_mo4"
      },
      "execution_count": null,
      "outputs": []
    },
    {
      "cell_type": "code",
      "source": [
        "def fc_layer_backward(dout, cache):\n",
        "    w = cache[0]\n",
        "    x = cache[2]\n",
        "\n",
        "    dx = np.dot(dout, w.T).reshape(x.shape)\n",
        "    dw = np.dot(x.reshape(x.shape[0], -1).T, dout)\n",
        "    db = np.sum(dout.T, axis=1)\n",
        "\n",
        "    return dw, db , dx"
      ],
      "metadata": {
        "id": "Uothm4JFREM3"
      },
      "execution_count": null,
      "outputs": []
    },
    {
      "cell_type": "code",
      "source": [
        "# dw4 , db4 , dx4 = fc_layer_backward(out4 , cache4)\n",
        "# print(dw4.shape)\n",
        "# print(db4.shape)\n",
        "# print(dx4.shape)"
      ],
      "metadata": {
        "id": "edWCIO1xUQB7"
      },
      "execution_count": null,
      "outputs": []
    },
    {
      "cell_type": "code",
      "source": [
        "def pooling_layer_backward(dout, cache):\n",
        "  \n",
        "  filter_dimension , stride , x = cache \n",
        "  N = x.shape[0]\n",
        "  C = x.shape[1]\n",
        "  H = x.shape[2]\n",
        "  W = x.shape[3]\n",
        "  H2 = dout.shape[2]\n",
        "  W2 = dout.shape[3]\n",
        "\n",
        "  dx = np.zeros_like(x)\n",
        "\n",
        "  for i in range(N):\n",
        "      current_unit_output = dout[i, :].reshape(C, H2 * W2)\n",
        "      column = 0\n",
        "      for j in range(0, H + 1 - filter_dimension, stride):\n",
        "          for k in range(0, W + 1 - filter_dimension, stride): \n",
        "              selected_block_of_x = x[i, :, j:j+filter_dimension, k:k+filter_dimension]\n",
        "              selected_block_of_x = selected_block_of_x.reshape(C, filter_dimension ** 2)\n",
        "\n",
        "              index_of_max_value_from_current_block = np.argmax(selected_block_of_x, axis=1)\n",
        "\n",
        "              current_unit_output_block = current_unit_output[:, column]\n",
        "\n",
        "              selected_block_of_x_dx_pooling = np.zeros_like(selected_block_of_x)\n",
        "              selected_block_of_x_dx_pooling[np.arange(C), index_of_max_value_from_current_block] = current_unit_output_block\n",
        "\n",
        "              dx[i, :, j:j+filter_dimension, k:k+filter_dimension] = selected_block_of_x_dx_pooling.reshape(C, filter_dimension, filter_dimension)\n",
        "\n",
        "              column += 1\n",
        "  \n",
        "  return dx"
      ],
      "metadata": {
        "id": "xhDC0KfYU2se"
      },
      "execution_count": null,
      "outputs": []
    },
    {
      "cell_type": "code",
      "source": [
        "# dx3 = pooling_layer_backward(dx4 , cache3)\n",
        "\n",
        "# print(dx3.shape)"
      ],
      "metadata": {
        "id": "u_Tdm_C-bimr"
      },
      "execution_count": null,
      "outputs": []
    },
    {
      "cell_type": "code",
      "source": [
        "def relu_backward(dout, cache):\n",
        "   \n",
        "    dx = dout * (cache > 0)\n",
        "\n",
        "    return dx"
      ],
      "metadata": {
        "id": "EcAAdQtMcKO2"
      },
      "execution_count": null,
      "outputs": []
    },
    {
      "cell_type": "code",
      "source": [
        "# dx2 = relu_backward(dx3 , cache2)\n",
        "\n",
        "# print(dx2.shape)"
      ],
      "metadata": {
        "id": "y9NrFYf6ebKK"
      },
      "execution_count": null,
      "outputs": []
    },
    {
      "cell_type": "code",
      "source": [
        "def convolutional_layer_backward(dout, cache):\n",
        "\n",
        "  H2 = dout.shape[2]\n",
        "  W2 = dout.shape[3]\n",
        "  stride, pad , w , b , x = cache \n",
        "  N = x.shape[0]\n",
        "  C = x.shape[1]\n",
        "  F = w.shape[0]\n",
        "  FH = w.shape[2]\n",
        "  FW = w.shape[3]\n",
        "\n",
        "\n",
        "  dw = np.zeros_like(w)\n",
        "  db = np.zeros_like(b) \n",
        "  dx = np.zeros_like(x)\n",
        "\n",
        "  padded_x = zero_padding(x , pad)\n",
        "\n",
        "  all_selected_row_w= w.reshape(F, C * FH * FW)\n",
        "  all_selected_col_x = np.zeros((C * FH * FW, H2 * W2))\n",
        "\n",
        "  for i in range(N):\n",
        "      current_padded_dx = np.zeros(padded_x.shape[1:])\n",
        "      column = 0\n",
        "      current_unit_dout = dout[i, :, :, :].reshape(F, H2 * W2)\n",
        "      current_unit_output = np.dot(all_selected_row_w.T, current_unit_dout)\n",
        "      for j in range(0, padded_x.shape[2]- FH + 1, stride):\n",
        "          for k in range(0, padded_x.shape[3] - FW + 1, stride):\n",
        "            all_selected_col_x[:, column] = padded_x[i, :, j:j+FH, k:k+FW].reshape(C * FH * FW) \n",
        "            current_padded_dx[:, j:j+FH, k:k+FW] += current_unit_output[:, column].reshape(C, FH, FW)\n",
        "            column += 1\n",
        "\n",
        "      if pad == 0:\n",
        "        dx[i] = current_padded_dx\n",
        "      else:\n",
        "        dx[i] = current_padded_dx[:, pad:-pad, pad:-pad]\n",
        "      \n",
        "      db += np.sum(current_unit_dout, axis=1)\n",
        "      temp_dot = np.dot(current_unit_dout, all_selected_col_x.T) \n",
        "      temp_dot = temp_dot.reshape(F , C , FH , FW)\n",
        "\n",
        "      dw += temp_dot\n",
        "      \n",
        "\n",
        "  return  dw, db , dx"
      ],
      "metadata": {
        "id": "BVwr-jo2gAU1"
      },
      "execution_count": null,
      "outputs": []
    },
    {
      "cell_type": "code",
      "source": [
        "# dw1 , db1 , dx1 = convolutional_layer_backward(dx2 , cache1)\n",
        "\n",
        "# print(dw1.shape)"
      ],
      "metadata": {
        "id": "mmtt0noTJsg-"
      },
      "execution_count": null,
      "outputs": []
    },
    {
      "cell_type": "code",
      "source": [
        "def update_weights(W , B , DW , DB , alpha):\n",
        "  for i in range(len(W)):\n",
        "    W[i] = W[i] - (alpha * DW[i])\n",
        "\n",
        "  for i in range(len(B)):\n",
        "    B[i] = B[i] - (alpha * DB[i])\n",
        "\n",
        "  return W , B\n",
        "\n"
      ],
      "metadata": {
        "id": "8OqAKBUJXfgm"
      },
      "execution_count": null,
      "outputs": []
    },
    {
      "cell_type": "code",
      "source": [
        "def Train_Model(batches , epoch , alpha):\n",
        "\n",
        "  w1 = np.random.normal(0.0, 0.01, (6, 1, 5, 5))\n",
        "  b1 = np.zeros((6, ))\n",
        "\n",
        "  w2 = np.random.normal(0.0, 0.01, (12, 6, 5, 5))\n",
        "  b2 = np.zeros((12, ))\n",
        "\n",
        "  w3 = np.random.normal(0.0, 0.01, (100, 12, 5, 5))\n",
        "  b3 = np.zeros((100, ))\n",
        "\n",
        "  w4 = np.random.normal(0.0, 0.01, (100*1*1, 10))\n",
        "  b4 = np.zeros((10,))\n",
        "\n",
        "  W = [w1 , w2 , w3 , w4]\n",
        "  B = [b1 , b2 ,b3 , b4]\n",
        "\n",
        "\n",
        "\n",
        "  for _ in range(epoch):\n",
        "    for batch in batches:\n",
        "      x , y = batch \n",
        "  # forward prop\n",
        "      out1 , cache1 = convolutional_layer_forward(1 , 2 , w1 , b1 , x)\n",
        "\n",
        "      out2 , cache2 = relu_forward(out1)\n",
        "\n",
        "      out3 , cache3 = pooling_layer_forward(2 , 2 , out2)\n",
        "\n",
        "      out4 , cache4 = convolutional_layer_forward(1 , 0 , w2 , b2 , out3)\n",
        "\n",
        "      out5 , cache5 = relu_forward(out4)\n",
        "\n",
        "      out6 , cache6 = pooling_layer_forward(2 , 2 , out5)\n",
        "\n",
        "      out7 , cache7 = convolutional_layer_forward(1 , 0 , w3 , b3 , out6)\n",
        "\n",
        "      out8 , cache8 = relu_forward(out7)\n",
        "\n",
        "      out9 , cache9 = fc_layer_forward(out8 , w4 , b4)\n",
        "  # loss calculation\n",
        "      probs , loss , derivative = softmax_activation(False , out9 , y)\n",
        "  # back prop\n",
        "      dw4 , db4 , dout9 = fc_layer_backward(derivative , cache9)\n",
        "      dout8 = relu_backward(dout9 , cache8)\n",
        "      dw3 , db3 , dout7 = convolutional_layer_backward(dout8 , cache7)\n",
        "\n",
        "      dout6 = pooling_layer_backward(dout7 , cache6)\n",
        "      dout5 = relu_backward(dout6 , cache5)\n",
        "      dw2 , db2 , dout4 = convolutional_layer_backward(dout5 , cache4)\n",
        "\n",
        "      dout3 = pooling_layer_backward(dout4 , cache3)\n",
        "      dout2 = relu_backward(dout3 , cache2)\n",
        "      dw1 , db1 , dout1 = convolutional_layer_backward(dout2 , cache1)\n",
        "\n",
        "      DW = [dw1 , dw2 , dw3 , dw4]\n",
        "      DB = [db1 , db2 ,db3 , db4]\n",
        "\n",
        "      [w1 , w2 , w3 , w4] , [b1 , b2 ,b3 , b4]  = update_weights(W , B , DW , DB , alpha)\n",
        "\n",
        "\n",
        "  return [w1 , w2 , w3 , w4] , [b1 , b2 ,b3 , b4]\n",
        "\n",
        "\n",
        "\n",
        "\n",
        "\n",
        "\n"
      ],
      "metadata": {
        "id": "jkZlzClnM4Rc"
      },
      "execution_count": null,
      "outputs": []
    },
    {
      "cell_type": "code",
      "source": [
        "def Predict(W  , B , x , y):\n",
        "  [w1 , w2 , w3 , w4] = W\n",
        "  [b1 , b2 , b3 , b4] = B\n",
        "\n",
        "  out1 , cache1 = convolutional_layer_forward(1 , 2 , w1 , b1 , x)\n",
        "\n",
        "  out2 , cache2 = relu_forward(out1)\n",
        "\n",
        "  out3 , cache3 = pooling_layer_forward(2 , 2 , out2)\n",
        "\n",
        "  out4 , cache4 = convolutional_layer_forward(1 , 0 , w2 , b2 , out3)\n",
        "\n",
        "  out5 , cache5 = relu_forward(out4)\n",
        "\n",
        "  out6 , cache6 = pooling_layer_forward(2 , 2 , out5)\n",
        "\n",
        "  out7 , cache7 = convolutional_layer_forward(1 , 0 , w3 , b3 , out6)\n",
        "\n",
        "  out8 , cache8 = relu_forward(out7)\n",
        "\n",
        "  out9 , cache9 = fc_layer_forward(out8 , w4 , b4)\n",
        "# loss calculation\n",
        "  probs  = softmax_activation(True , out9 , y)\n",
        "\n",
        "  predictions = np.argmax(probs, axis=1)\n",
        "  accuracy = np.mean(predictions == y)\n",
        "\n",
        "  return predictions , accuracy\n",
        "\n",
        "\n",
        "\n"
      ],
      "metadata": {
        "id": "rMfs7dgGcWRt"
      },
      "execution_count": null,
      "outputs": []
    },
    {
      "cell_type": "code",
      "source": [
        "size_of_each_batch = 128\n",
        "batches = Batch_Creation(x_train_mnist , y_train_mnist)\n",
        "# print(len(batches))\n",
        "# print(batches[0][1].shape)\n",
        "\n",
        "W , B = Train_Model(batches , 5 , 0.01)\n",
        "\n",
        "predictions , accuracy = Predict(W , B , x_test_mnist , y_test_mnist)\n",
        "print(predictions)\n",
        "print(accuracy)\n",
        "\n"
      ],
      "metadata": {
        "colab": {
          "base_uri": "https://localhost:8080/"
        },
        "id": "M6T0vIjsV0MG",
        "outputId": "d04fff97-e155-474f-aa62-53e113272321"
      },
      "execution_count": null,
      "outputs": [
        {
          "output_type": "stream",
          "name": "stdout",
          "text": [
            "[7 2 1 ... 4 5 6]\n",
            "0.983\n"
          ]
        }
      ]
    }
  ]
}