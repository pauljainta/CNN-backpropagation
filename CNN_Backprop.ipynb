{
  "nbformat": 4,
  "nbformat_minor": 0,
  "metadata": {
    "colab": {
      "name": "CNN Backprop.ipynb",
      "provenance": [],
      "authorship_tag": "ABX9TyO2z0DLWOoqD3LpmacrB8Vq",
      "include_colab_link": true
    },
    "kernelspec": {
      "name": "python3",
      "display_name": "Python 3"
    },
    "language_info": {
      "name": "python"
    }
  },
  "cells": [
    {
      "cell_type": "markdown",
      "metadata": {
        "id": "view-in-github",
        "colab_type": "text"
      },
      "source": [
        "<a href=\"https://colab.research.google.com/github/pauljainta/CNN-backpropagation/blob/main/CNN_Backprop.ipynb\" target=\"_parent\"><img src=\"https://colab.research.google.com/assets/colab-badge.svg\" alt=\"Open In Colab\"/></a>"
      ]
    },
    {
      "cell_type": "code",
      "execution_count": 39,
      "metadata": {
        "id": "S6QTBZNebEW7"
      },
      "outputs": [],
      "source": [
        "from tensorflow.keras import datasets\n",
        "import numpy as np\n",
        "import matplotlib.pyplot as plt\n",
        "import math\n"
      ]
    },
    {
      "cell_type": "markdown",
      "source": [
        "**LOAD DATA**"
      ],
      "metadata": {
        "id": "9Ql-24Zjb_UG"
      }
    },
    {
      "cell_type": "code",
      "source": [
        "(x_train_mnist, y_train_mnist), (x_test_mnist, y_test_mnist) = datasets.mnist.load_data()"
      ],
      "metadata": {
        "id": "LroboPpLb-RP"
      },
      "execution_count": 40,
      "outputs": []
    },
    {
      "cell_type": "code",
      "source": [
        "# y_train_mnist = y_train_mnist.reshape(-1 , 1)\n",
        "# y_test_mnist = y_test_mnist.reshape(-1 , 1)\n",
        "\n",
        "\n",
        "print(x_train_mnist.shape)\n",
        "print(y_train_mnist.shape)\n",
        "print(y_test_mnist.shape)\n"
      ],
      "metadata": {
        "colab": {
          "base_uri": "https://localhost:8080/"
        },
        "id": "wRI1R5hQcqvB",
        "outputId": "35cae08e-3ba7-4e7b-9941-330574af2d9e"
      },
      "execution_count": 41,
      "outputs": [
        {
          "output_type": "stream",
          "name": "stdout",
          "text": [
            "(60000, 28, 28)\n",
            "(60000,)\n",
            "(10000,)\n"
          ]
        }
      ]
    },
    {
      "cell_type": "code",
      "source": [
        "plt.ylabel(\"Image\")\n",
        "plt.imshow(x_train_mnist[10, :], cmap='gray')"
      ],
      "metadata": {
        "colab": {
          "base_uri": "https://localhost:8080/",
          "height": 283
        },
        "id": "nzPt0JKterSZ",
        "outputId": "f59d9218-9072-4f00-9593-59a2fda8107f"
      },
      "execution_count": 42,
      "outputs": [
        {
          "output_type": "execute_result",
          "data": {
            "text/plain": [
              "<matplotlib.image.AxesImage at 0x7f5336374510>"
            ]
          },
          "metadata": {},
          "execution_count": 42
        },
        {
          "output_type": "display_data",
          "data": {
            "image/png": "[encoded data removed]",
            "text/plain": [
              "<Figure size 432x288 with 1 Axes>"
            ]
          },
          "metadata": {
            "needs_background": "light"
          }
        }
      ]
    },
    {
      "cell_type": "code",
      "source": [
        "type(x_train_mnist)"
      ],
      "metadata": {
        "colab": {
          "base_uri": "https://localhost:8080/"
        },
        "id": "cnaeaR_2jmic",
        "outputId": "735fe1f2-9fa9-4d84-c779-3dcc6bb80ca6"
      },
      "execution_count": 43,
      "outputs": [
        {
          "output_type": "execute_result",
          "data": {
            "text/plain": [
              "numpy.ndarray"
            ]
          },
          "metadata": {},
          "execution_count": 43
        }
      ]
    },
    {
      "cell_type": "code",
      "source": [
        "x_train_mnist = x_train_mnist[ :,np.newaxis]\n",
        "print(x_train_mnist.shape)\n",
        "\n"
      ],
      "metadata": {
        "colab": {
          "base_uri": "https://localhost:8080/"
        },
        "id": "peYrqwcmjrj6",
        "outputId": "14320c9d-1c3f-4f3f-88d1-cedfe080d3e6"
      },
      "execution_count": 44,
      "outputs": [
        {
          "output_type": "stream",
          "name": "stdout",
          "text": [
            "(60000, 1, 28, 28)\n"
          ]
        }
      ]
    },
    {
      "cell_type": "code",
      "source": [
        "x_test_mnist = x_test_mnist[ :,np.newaxis]\n",
        "print(x_test_mnist.shape)\n",
        "print(y_test_mnist.shape)\n",
        "size_of_each_batch = 32"
      ],
      "metadata": {
        "colab": {
          "base_uri": "https://localhost:8080/"
        },
        "id": "Mz6PR8TCt4_q",
        "outputId": "854d4aa2-1b0a-438b-b719-87aec3d5f849"
      },
      "execution_count": 45,
      "outputs": [
        {
          "output_type": "stream",
          "name": "stdout",
          "text": [
            "(10000, 1, 28, 28)\n",
            "(10000,)\n"
          ]
        }
      ]
    },
    {
      "cell_type": "code",
      "source": [
        "def Batch_Creation(x , y):\n",
        "  \n",
        "    global size_of_each_batch\n",
        "\n",
        "    total_number_of_batches = int(math.floor(y.shape[0] / size_of_each_batch))\n",
        "    list_of_mini_batches = []\n",
        "\n",
        "    for i in range(total_number_of_batches):\n",
        "      if y.shape[0] % size_of_each_batch != 0 and i == total_number_of_batches-1 :\n",
        "        list_of_mini_batches.append((x[i*size_of_each_batch:, :] , y[i*size_of_each_batch:] ))\n",
        "\n",
        "      list_of_mini_batches.append((x[i*size_of_each_batch:(i+1)*size_of_each_batch , :] , y[i*size_of_each_batch:(i+1)*size_of_each_batch]))\n",
        "   \n",
        "    return list_of_mini_batches\n"
      ],
      "metadata": {
        "id": "6LEtKzgWbWlI"
      },
      "execution_count": 46,
      "outputs": []
    },
    {
      "cell_type": "code",
      "source": [
        "size_of_each_batch = 128\n",
        "batches = Batch_Creation(x_train_mnist , y_train_mnist)\n",
        "print(len(batches))\n",
        "print(batches[0][1].shape)"
      ],
      "metadata": {
        "colab": {
          "base_uri": "https://localhost:8080/"
        },
        "id": "hBta9-0SejXr",
        "outputId": "2c80a952-fd26-4c6a-b323-830243951ca4"
      },
      "execution_count": 47,
      "outputs": [
        {
          "output_type": "stream",
          "name": "stdout",
          "text": [
            "469\n",
            "(128,)\n"
          ]
        }
      ]
    },
    {
      "cell_type": "code",
      "source": [
        "def zero_padding(x , padding):\n",
        "  return np.pad(x, ((0, 0), (0, 0), (padding, padding), (padding, padding)), mode='constant')"
      ],
      "metadata": {
        "id": "mwM0FHHQhMgS"
      },
      "execution_count": 48,
      "outputs": []
    },
    {
      "cell_type": "code",
      "source": [
        "np.random.seed(1)\n",
        "x = np.random.randn(4, 3, 3, 2)\n",
        "x_pad = zero_padding(x, 2)\n",
        "print (\"x.shape =\\n\", x.shape)\n",
        "print (\"x_pad.shape =\\n\", x_pad.shape)\n",
        "print (\"x[1,1] =\\n\", x[1,1])\n",
        "print (\"x_pad[1,1] =\\n\", x_pad[1,1])"
      ],
      "metadata": {
        "colab": {
          "base_uri": "https://localhost:8080/"
        },
        "id": "w9qHV78Fhn43",
        "outputId": "46916ec8-059e-40c5-d6a3-0af2c279bd68"
      },
      "execution_count": 49,
      "outputs": [
        {
          "output_type": "stream",
          "name": "stdout",
          "text": [
            "x.shape =\n",
            " (4, 3, 3, 2)\n",
            "x_pad.shape =\n",
            " (4, 3, 7, 6)\n",
            "x[1,1] =\n",
            " [[ 0.90085595 -0.68372786]\n",
            " [-0.12289023 -0.93576943]\n",
            " [-0.26788808  0.53035547]]\n",
            "x_pad[1,1] =\n",
            " [[ 0.          0.          0.          0.          0.          0.        ]\n",
            " [ 0.          0.          0.          0.          0.          0.        ]\n",
            " [ 0.          0.          0.90085595 -0.68372786  0.          0.        ]\n",
            " [ 0.          0.         -0.12289023 -0.93576943  0.          0.        ]\n",
            " [ 0.          0.         -0.26788808  0.53035547  0.          0.        ]\n",
            " [ 0.          0.          0.          0.          0.          0.        ]\n",
            " [ 0.          0.          0.          0.          0.          0.        ]]\n"
          ]
        }
      ]
    },
    {
      "cell_type": "code",
      "source": [
        "def convolutional_layer_forward(stride , padding , w , b , x):\n",
        "\n",
        "    padded_x = zero_padding(x , padding)\n",
        "\n",
        "    N, C, H, W = x.shape \n",
        "    F, _, FH, FW = w.shape\n",
        "\n",
        "    W2 = int((W - FW + 2*padding)/stride + 1)\n",
        "    H2 = int((H - FH + 2*padding)/stride + 1)\n",
        "\n",
        "    all_selected_column_x = np.zeros((C * FH * FW, H2 * W2))\n",
        "    all_selected_row_w = w.reshape(F, C * FH * FW)\n",
        "\n",
        "    output = np.zeros((N, F, H2, W2))\n",
        "\n",
        "\n",
        "    for i in range(N):\n",
        "        column = 0\n",
        "        for j in range(0, padded_x.shape[2] + 1 - FH, stride):\n",
        "            for k in range(0, padded_x.shape[3]  + 1 - FW, stride):\n",
        "                temp = padded_x[i, :, j:j+FH, k:k+FW]\n",
        "                all_selected_column_x[:, column] = temp.reshape(C * FH * FW)\n",
        "                column += 1\n",
        "        \n",
        "        curr_out = np.dot(all_selected_row_w, all_selected_column_x) + (b.reshape(-1, 1))\n",
        "        output[i, :, :, :] = curr_out.reshape(F, H2, W2)\n",
        "\n",
        "  \n",
        "    return output, (stride, padding , w , x , b)\n"
      ],
      "metadata": {
        "id": "AP_OCVEciATJ"
      },
      "execution_count": 50,
      "outputs": []
    },
    {
      "cell_type": "code",
      "source": [
        "w1 = np.random.normal(0.0, 0.01, (6, 1, 5, 5))\n",
        "b1 = np.zeros((6, ))\n",
        "\n",
        "out , cache = convolutional_layer_forward(1 , 2 , w1 , b1 , batches[0][0])\n",
        "\n",
        "print(out.shape)"
      ],
      "metadata": {
        "colab": {
          "base_uri": "https://localhost:8080/"
        },
        "id": "RQnQq1xtpNq6",
        "outputId": "9cb3fd7f-de07-48ae-f159-7321ae140c89"
      },
      "execution_count": 54,
      "outputs": [
        {
          "output_type": "stream",
          "name": "stdout",
          "text": [
            "(128, 6, 28, 28)\n"
          ]
        }
      ]
    }
  ]
}