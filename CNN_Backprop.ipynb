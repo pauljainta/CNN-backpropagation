{
  "nbformat": 4,
  "nbformat_minor": 0,
  "metadata": {
    "colab": {
      "name": "CNN Backprop.ipynb",
      "provenance": [],
      "authorship_tag": "ABX9TyPZYdVkMlOFElbMtyOsnhLh",
      "include_colab_link": true
    },
    "kernelspec": {
      "name": "python3",
      "display_name": "Python 3"
    },
    "language_info": {
      "name": "python"
    }
  },
  "cells": [
    {
      "cell_type": "markdown",
      "metadata": {
        "id": "view-in-github",
        "colab_type": "text"
      },
      "source": [
        "<a href=\"https://colab.research.google.com/github/pauljainta/CNN-backpropagation/blob/main/CNN_Backprop.ipynb\" target=\"_parent\"><img src=\"https://colab.research.google.com/assets/colab-badge.svg\" alt=\"Open In Colab\"/></a>"
      ]
    },
    {
      "cell_type": "code",
      "execution_count": 236,
      "metadata": {
        "id": "S6QTBZNebEW7"
      },
      "outputs": [],
      "source": [
        "from tensorflow.keras import datasets\n",
        "import numpy as np\n",
        "import matplotlib.pyplot as plt\n",
        "import math\n"
      ]
    },
    {
      "cell_type": "markdown",
      "source": [
        "**LOAD DATA**"
      ],
      "metadata": {
        "id": "9Ql-24Zjb_UG"
      }
    },
    {
      "cell_type": "code",
      "source": [
        "(x_train_mnist, y_train_mnist), (x_test_mnist, y_test_mnist) = datasets.mnist.load_data()"
      ],
      "metadata": {
        "id": "LroboPpLb-RP"
      },
      "execution_count": 237,
      "outputs": []
    },
    {
      "cell_type": "code",
      "source": [
        "# y_train_mnist = y_train_mnist.reshape(-1 , 1)\n",
        "# y_test_mnist = y_test_mnist.reshape(-1 , 1)\n",
        "\n",
        "\n",
        "print(x_train_mnist.shape)\n",
        "print(y_train_mnist.shape)\n",
        "print(y_test_mnist.shape)\n"
      ],
      "metadata": {
        "colab": {
          "base_uri": "https://localhost:8080/"
        },
        "id": "wRI1R5hQcqvB",
        "outputId": "fa394cf5-19e0-431d-83db-30ed11f6d756"
      },
      "execution_count": 238,
      "outputs": [
        {
          "output_type": "stream",
          "name": "stdout",
          "text": [
            "(60000, 28, 28)\n",
            "(60000,)\n",
            "(10000,)\n"
          ]
        }
      ]
    },
    {
      "cell_type": "code",
      "source": [
        "plt.ylabel(\"Image\")\n",
        "plt.imshow(x_train_mnist[10, :], cmap='gray')"
      ],
      "metadata": {
        "colab": {
          "base_uri": "https://localhost:8080/",
          "height": 283
        },
        "id": "nzPt0JKterSZ",
        "outputId": "28813c40-bf07-4457-cff8-b9949669fa38"
      },
      "execution_count": 239,
      "outputs": [
        {
          "output_type": "execute_result",
          "data": {
            "text/plain": [
              "<matplotlib.image.AxesImage at 0x7f532d904f10>"
            ]
          },
          "metadata": {},
          "execution_count": 239
        },
        {
          "output_type": "display_data",
          "data": {
            "image/png": "[encoded data removed]",
            "text/plain": [
              "<Figure size 432x288 with 1 Axes>"
            ]
          },
          "metadata": {
            "needs_background": "light"
          }
        }
      ]
    },
    {
      "cell_type": "code",
      "source": [
        "type(x_train_mnist)"
      ],
      "metadata": {
        "colab": {
          "base_uri": "https://localhost:8080/"
        },
        "id": "cnaeaR_2jmic",
        "outputId": "21a9df11-3d82-4595-8f9f-2876dd3fc0ea"
      },
      "execution_count": 240,
      "outputs": [
        {
          "output_type": "execute_result",
          "data": {
            "text/plain": [
              "numpy.ndarray"
            ]
          },
          "metadata": {},
          "execution_count": 240
        }
      ]
    },
    {
      "cell_type": "code",
      "source": [
        "x_train_mnist = x_train_mnist[ :,np.newaxis]\n",
        "print(x_train_mnist.shape)\n",
        "\n"
      ],
      "metadata": {
        "colab": {
          "base_uri": "https://localhost:8080/"
        },
        "id": "peYrqwcmjrj6",
        "outputId": "86f5a542-cae2-41fc-d105-a1cc503a3263"
      },
      "execution_count": 241,
      "outputs": [
        {
          "output_type": "stream",
          "name": "stdout",
          "text": [
            "(60000, 1, 28, 28)\n"
          ]
        }
      ]
    },
    {
      "cell_type": "code",
      "source": [
        "x_test_mnist = x_test_mnist[ :,np.newaxis]\n",
        "print(x_test_mnist.shape)\n",
        "print(y_test_mnist.shape)\n",
        "size_of_each_batch = 32"
      ],
      "metadata": {
        "colab": {
          "base_uri": "https://localhost:8080/"
        },
        "id": "Mz6PR8TCt4_q",
        "outputId": "89760700-a556-4804-a567-30157e9545dd"
      },
      "execution_count": 242,
      "outputs": [
        {
          "output_type": "stream",
          "name": "stdout",
          "text": [
            "(10000, 1, 28, 28)\n",
            "(10000,)\n"
          ]
        }
      ]
    },
    {
      "cell_type": "code",
      "source": [
        "def Batch_Creation(x , y):\n",
        "  \n",
        "    global size_of_each_batch\n",
        "\n",
        "    total_number_of_batches = int(math.floor(y.shape[0] / size_of_each_batch))\n",
        "    list_of_mini_batches = []\n",
        "\n",
        "    for i in range(total_number_of_batches):\n",
        "      if y.shape[0] % size_of_each_batch != 0 and i == total_number_of_batches-1 :\n",
        "        list_of_mini_batches.append((x[i*size_of_each_batch:, :] , y[i*size_of_each_batch:] ))\n",
        "\n",
        "      list_of_mini_batches.append((x[i*size_of_each_batch:(i+1)*size_of_each_batch , :] , y[i*size_of_each_batch:(i+1)*size_of_each_batch]))\n",
        "   \n",
        "    return list_of_mini_batches\n"
      ],
      "metadata": {
        "id": "6LEtKzgWbWlI"
      },
      "execution_count": 243,
      "outputs": []
    },
    {
      "cell_type": "code",
      "source": [
        "size_of_each_batch = 128\n",
        "batches = Batch_Creation(x_train_mnist , y_train_mnist)\n",
        "print(len(batches))\n",
        "print(batches[0][1].shape)"
      ],
      "metadata": {
        "colab": {
          "base_uri": "https://localhost:8080/"
        },
        "id": "hBta9-0SejXr",
        "outputId": "00568092-25f7-463e-9557-ce7be0335a3a"
      },
      "execution_count": 244,
      "outputs": [
        {
          "output_type": "stream",
          "name": "stdout",
          "text": [
            "469\n",
            "(128,)\n"
          ]
        }
      ]
    },
    {
      "cell_type": "code",
      "source": [
        "def zero_padding(x , padding):\n",
        "  return np.pad(x, ((0, 0), (0, 0), (padding, padding), (padding, padding)), mode='constant')"
      ],
      "metadata": {
        "id": "mwM0FHHQhMgS"
      },
      "execution_count": 245,
      "outputs": []
    },
    {
      "cell_type": "code",
      "source": [
        "np.random.seed(1)\n",
        "x = np.random.randn(4, 3, 3, 2)\n",
        "x_pad = zero_padding(x, 2)\n",
        "print (\"x.shape =\\n\", x.shape)\n",
        "print (\"x_pad.shape =\\n\", x_pad.shape)\n",
        "print (\"x[1,1] =\\n\", x[1,1])\n",
        "print (\"x_pad[1,1] =\\n\", x_pad[1,1])"
      ],
      "metadata": {
        "colab": {
          "base_uri": "https://localhost:8080/"
        },
        "id": "w9qHV78Fhn43",
        "outputId": "b2e6a7b0-0225-4e0c-e483-19a47887a616"
      },
      "execution_count": 246,
      "outputs": [
        {
          "output_type": "stream",
          "name": "stdout",
          "text": [
            "x.shape =\n",
            " (4, 3, 3, 2)\n",
            "x_pad.shape =\n",
            " (4, 3, 7, 6)\n",
            "x[1,1] =\n",
            " [[ 0.90085595 -0.68372786]\n",
            " [-0.12289023 -0.93576943]\n",
            " [-0.26788808  0.53035547]]\n",
            "x_pad[1,1] =\n",
            " [[ 0.          0.          0.          0.          0.          0.        ]\n",
            " [ 0.          0.          0.          0.          0.          0.        ]\n",
            " [ 0.          0.          0.90085595 -0.68372786  0.          0.        ]\n",
            " [ 0.          0.         -0.12289023 -0.93576943  0.          0.        ]\n",
            " [ 0.          0.         -0.26788808  0.53035547  0.          0.        ]\n",
            " [ 0.          0.          0.          0.          0.          0.        ]\n",
            " [ 0.          0.          0.          0.          0.          0.        ]]\n"
          ]
        }
      ]
    },
    {
      "cell_type": "code",
      "source": [
        "def convolutional_layer_forward(stride , padding , w , b , x):\n",
        "\n",
        "    padded_x = zero_padding(x , padding)\n",
        "\n",
        "    N = x.shape[0]\n",
        "    C = x.shape[1]\n",
        "    H = x.shape[2]\n",
        "    W = x.shape[3]\n",
        "\n",
        "    F = w.shape[0]\n",
        "    FH = w.shape[2]\n",
        "    FW = w.shape[3]\n",
        "\n",
        "    W2 = int((W - FW + 2*padding)/stride + 1)\n",
        "    H2 = int((H - FH + 2*padding)/stride + 1)\n",
        "\n",
        "    all_selected_column_x = np.zeros((C * FH * FW, H2 * W2))\n",
        "    all_selected_row_w = w.reshape(F, C * FH * FW)\n",
        "\n",
        "    output = np.zeros((N, F, H2, W2))\n",
        "\n",
        "\n",
        "    for i in range(N):\n",
        "        column = 0\n",
        "        for j in range(0, padded_x.shape[2] + 1 - FH, stride):\n",
        "            for k in range(0, padded_x.shape[3]  + 1 - FW, stride):\n",
        "                temp = padded_x[i, :, j:j+FH, k:k+FW]\n",
        "                all_selected_column_x[:, column] = temp.reshape(C * FH * FW)\n",
        "                column += 1\n",
        "        \n",
        "        current_unit_output = np.dot(all_selected_row_w, all_selected_column_x) + (b.reshape(-1, 1))\n",
        "        output[i, :, :, :] = current_unit_output.reshape(F, H2, W2)\n",
        "\n",
        "  \n",
        "    return output, (stride, padding , w , x , b)\n"
      ],
      "metadata": {
        "id": "AP_OCVEciATJ"
      },
      "execution_count": 247,
      "outputs": []
    },
    {
      "cell_type": "code",
      "source": [
        "w1 = np.random.normal(0.0, 0.01, (6, 1, 5, 5))\n",
        "b1 = np.zeros((6, ))\n",
        "\n",
        "out1 , cache1 = convolutional_layer_forward(1 , 2 , w1 , b1 , batches[0][0])\n",
        "\n",
        "print(out1.shape)"
      ],
      "metadata": {
        "colab": {
          "base_uri": "https://localhost:8080/"
        },
        "id": "RQnQq1xtpNq6",
        "outputId": "e72053b3-0c61-4fe2-c80a-b45e8fa53437"
      },
      "execution_count": 248,
      "outputs": [
        {
          "output_type": "stream",
          "name": "stdout",
          "text": [
            "(128, 6, 28, 28)\n"
          ]
        }
      ]
    },
    {
      "cell_type": "code",
      "source": [
        "def relu_forward(x):\n",
        "  return np.maximum(0 , x) , x"
      ],
      "metadata": {
        "id": "hXUD_fImx01E"
      },
      "execution_count": 249,
      "outputs": []
    },
    {
      "cell_type": "code",
      "source": [
        "out2 , cache2 = relu_forward(out1)\n",
        "\n",
        "print(out2[0])"
      ],
      "metadata": {
        "colab": {
          "base_uri": "https://localhost:8080/"
        },
        "id": "pyzWsRndyRuX",
        "outputId": "2f22b4af-ace3-4f61-e565-daad5bc6d898"
      },
      "execution_count": 250,
      "outputs": [
        {
          "output_type": "stream",
          "name": "stdout",
          "text": [
            "[[[0.         0.         0.         ... 0.         0.         0.        ]\n",
            "  [0.         0.         0.         ... 0.         0.         0.        ]\n",
            "  [0.         0.         0.         ... 0.         0.         0.        ]\n",
            "  ...\n",
            "  [0.         0.         0.         ... 0.         0.         0.        ]\n",
            "  [0.         0.         0.         ... 0.         0.         0.        ]\n",
            "  [0.         0.         0.         ... 0.         0.         0.        ]]\n",
            "\n",
            " [[0.         0.         0.         ... 0.         0.         0.        ]\n",
            "  [0.         0.         0.         ... 0.         0.         0.        ]\n",
            "  [0.         0.         0.         ... 0.         0.         0.        ]\n",
            "  ...\n",
            "  [0.         0.         1.68063601 ... 0.         0.         0.        ]\n",
            "  [0.         0.         1.66533048 ... 0.         0.         0.        ]\n",
            "  [0.         0.         0.         ... 0.         0.         0.        ]]\n",
            "\n",
            " [[0.         0.         0.         ... 0.         0.         0.        ]\n",
            "  [0.         0.         0.         ... 0.         0.         0.        ]\n",
            "  [0.         0.         0.         ... 0.         0.         0.        ]\n",
            "  ...\n",
            "  [0.         0.         0.07387586 ... 0.         0.         0.        ]\n",
            "  [0.         0.         2.21360502 ... 0.         0.         0.        ]\n",
            "  [0.         0.         0.         ... 0.         0.         0.        ]]\n",
            "\n",
            " [[0.         0.         0.         ... 0.         0.         0.        ]\n",
            "  [0.         0.         0.         ... 0.         0.         0.        ]\n",
            "  [0.         0.         0.         ... 0.         0.         0.        ]\n",
            "  ...\n",
            "  [0.         0.         0.         ... 0.         0.         0.        ]\n",
            "  [0.         0.         0.         ... 0.         0.         0.        ]\n",
            "  [0.         0.         0.         ... 0.         0.         0.        ]]\n",
            "\n",
            " [[0.         0.         0.         ... 0.         0.         0.        ]\n",
            "  [0.         0.         0.         ... 0.         0.         0.        ]\n",
            "  [0.         0.         0.         ... 0.         0.         0.        ]\n",
            "  ...\n",
            "  [0.         0.         1.15872631 ... 0.         0.         0.        ]\n",
            "  [0.         0.         1.81078167 ... 0.         0.         0.        ]\n",
            "  [0.         0.         0.         ... 0.         0.         0.        ]]\n",
            "\n",
            " [[0.         0.         0.         ... 0.         0.         0.        ]\n",
            "  [0.         0.         0.         ... 0.         0.         0.        ]\n",
            "  [0.         0.         0.         ... 0.         0.         0.        ]\n",
            "  ...\n",
            "  [0.         0.         0.         ... 0.         0.         0.        ]\n",
            "  [0.         0.         1.12064764 ... 0.         0.         0.        ]\n",
            "  [0.         0.         0.         ... 0.         0.         0.        ]]]\n"
          ]
        }
      ]
    },
    {
      "cell_type": "code",
      "source": [
        "def pooling_layer_forward(stride , filter_dimension , x):\n",
        "  N = x.shape[0]\n",
        "  C = x.shape[1]\n",
        "  H = x.shape[2]\n",
        "  W = x.shape[3]\n",
        "\n",
        "  H2 = math.floor((H - filter_dimension) / stride) + 1\n",
        "  W2 = math.floor((W - filter_dimension) / stride) + 1\n",
        "\n",
        "  output = np.zeros((N, C, H2, W2))\n",
        "\n",
        "  for i in range(N):\n",
        "      current_unit_output = np.zeros((C, H2* W2))\n",
        "      column = 0\n",
        "      for j in range(0, H - filter_dimension + 1, stride):\n",
        "          for k in range(0, W - filter_dimension + 1, stride):\n",
        "              selected_block_of_x = x[i, :, j:j+filter_dimension, k:k+filter_dimension]\n",
        "              selected_block_of_x = selected_block_of_x.reshape(C, filter_dimension ** 2)\n",
        "\n",
        "              max_value_from_current_block = np.max(selected_block_of_x, axis=1)\n",
        "              current_unit_output[:, column] = max_value_from_current_block\n",
        "\n",
        "              column += 1\n",
        "              \n",
        "      output[i, :, :, :] = current_unit_output.reshape(C, H2 , W2)\n",
        "\n",
        "  return output, (filter_dimension , stride , x) \n"
      ],
      "metadata": {
        "id": "hUH7Ff5WsC_P"
      },
      "execution_count": 251,
      "outputs": []
    },
    {
      "cell_type": "code",
      "source": [
        "out3 , cache3 = pooling_layer_forward(2 , 2 , out2)\n",
        "\n",
        "print(out3.shape)\n",
        "print(out3[0])"
      ],
      "metadata": {
        "colab": {
          "base_uri": "https://localhost:8080/"
        },
        "id": "ugdwAWpuwAuq",
        "outputId": "07e46159-a568-45ab-ced5-22fec920b15c"
      },
      "execution_count": 252,
      "outputs": [
        {
          "output_type": "stream",
          "name": "stdout",
          "text": [
            "(128, 6, 14, 14)\n",
            "[[[ 0.          0.          0.         ...  0.          0.\n",
            "    0.        ]\n",
            "  [ 0.          0.          0.         ...  0.          0.\n",
            "    0.        ]\n",
            "  [ 0.          0.          0.         ...  5.71584993  1.64942609\n",
            "    0.        ]\n",
            "  ...\n",
            "  [ 0.          1.01088968  5.2804517  ...  0.          0.\n",
            "    0.        ]\n",
            "  [ 0.          0.          0.         ...  0.          0.\n",
            "    0.        ]\n",
            "  [ 0.          0.          0.         ...  0.          0.\n",
            "    0.        ]]\n",
            "\n",
            " [[ 0.          0.          0.         ...  0.          0.\n",
            "    0.        ]\n",
            "  [ 0.          0.          0.         ...  1.15615384  0.\n",
            "    0.        ]\n",
            "  [ 0.          0.          0.         ...  0.          0.04052972\n",
            "    0.        ]\n",
            "  ...\n",
            "  [ 0.          0.12071177  0.         ...  0.          0.\n",
            "    0.        ]\n",
            "  [ 0.          3.96420047  3.28639377 ...  0.          0.\n",
            "    0.        ]\n",
            "  [ 0.          2.48990965  2.91609279 ...  0.          0.\n",
            "    0.        ]]\n",
            "\n",
            " [[ 0.          0.          0.         ...  0.          0.\n",
            "    0.        ]\n",
            "  [ 0.          0.          0.         ...  4.83856059  3.09917159\n",
            "    0.        ]\n",
            "  [ 0.          0.          0.03813235 ...  5.15808084  0.36643173\n",
            "    0.        ]\n",
            "  ...\n",
            "  [ 0.          0.1479426   3.5253832  ...  0.          0.\n",
            "    0.        ]\n",
            "  [ 0.          1.70547871  4.38840752 ...  0.          0.\n",
            "    0.        ]\n",
            "  [ 0.          5.79913949  5.22001566 ...  0.          0.\n",
            "    0.        ]]\n",
            "\n",
            " [[ 0.          0.          0.         ...  0.          0.\n",
            "    0.        ]\n",
            "  [ 0.          0.          0.         ...  3.54716141  3.30961739\n",
            "    0.        ]\n",
            "  [ 0.          0.          0.44172858 ...  4.10559812  2.0562386\n",
            "    0.        ]\n",
            "  ...\n",
            "  [ 0.          3.00136493  0.08654125 ...  0.          0.\n",
            "    0.        ]\n",
            "  [ 0.          0.          0.         ...  0.          0.\n",
            "    0.        ]\n",
            "  [ 0.          0.          0.         ...  0.          0.\n",
            "    0.        ]]\n",
            "\n",
            " [[ 0.          0.          0.         ...  0.          0.\n",
            "    0.        ]\n",
            "  [ 0.          0.          0.         ...  8.43818299  6.11554902\n",
            "    0.        ]\n",
            "  [ 0.          0.          0.29513645 ... 10.15949143  5.37622603\n",
            "    0.        ]\n",
            "  ...\n",
            "  [ 0.          3.14127698  5.02187186 ...  0.          0.\n",
            "    0.        ]\n",
            "  [ 0.          1.22822923  1.31854348 ...  0.          0.\n",
            "    0.        ]\n",
            "  [ 0.          3.06079913  2.85540129 ...  0.          0.\n",
            "    0.        ]]\n",
            "\n",
            " [[ 0.          0.          0.         ...  0.          0.\n",
            "    0.        ]\n",
            "  [ 0.          0.          0.         ...  5.2396058   0.71323279\n",
            "    0.        ]\n",
            "  [ 0.          0.          0.24634303 ...  2.00392951  2.06030062\n",
            "    0.        ]\n",
            "  ...\n",
            "  [ 0.          5.02488024  7.53168554 ...  0.          0.\n",
            "    0.        ]\n",
            "  [ 0.          0.          0.         ...  0.          0.\n",
            "    0.        ]\n",
            "  [ 0.          1.53953987  4.81584516 ...  0.          0.\n",
            "    0.        ]]]\n"
          ]
        }
      ]
    },
    {
      "cell_type": "code",
      "source": [
        "def fc_layer_forward(x, w, b):\n",
        "  N = x.shape[0]\n",
        "  C = x.shape[1]\n",
        "  H = x.shape[2]\n",
        "  W = x.shape[3]\n",
        " \n",
        "  \n",
        "  return np.dot(x.reshape(N , C * H * W) , w) + b , (w , b , x) "
      ],
      "metadata": {
        "id": "EL__PmvC2wqS"
      },
      "execution_count": 253,
      "outputs": []
    },
    {
      "cell_type": "code",
      "source": [
        "w2 = np.random.normal(0.0, 0.01, (6*14*14, 10))\n",
        "b2 = np.zeros((10, ))\n",
        "\n",
        "out4 , cache4 = fc_layer_forward(out3 , w2 , b2)\n",
        "print(out4.shape)\n"
      ],
      "metadata": {
        "colab": {
          "base_uri": "https://localhost:8080/"
        },
        "id": "bsAW1yiF6Mno",
        "outputId": "2de5de29-f034-4089-d75d-4a974e77636f"
      },
      "execution_count": 254,
      "outputs": [
        {
          "output_type": "stream",
          "name": "stdout",
          "text": [
            "(128, 10)\n"
          ]
        }
      ]
    },
    {
      "cell_type": "code",
      "source": [
        "def softmax_activation(predict , y_hat , y):\n",
        "  y_hat = y_hat - np.max(y_hat, axis=1, keepdims=True)\n",
        "  \n",
        "  probs = np.exp(y_hat) / np.sum(np.exp(y_hat) , axis = 1 , keepdims=True)\n",
        "\n",
        "  if predict == True:\n",
        "    return probs\n",
        "\n",
        "  No_of_samples = probs.shape[0]\n",
        "    \n",
        "  average_loss = np.sum(np.log(probs[np.arange(No_of_samples), y])) / No_of_samples\n",
        "\n",
        "  average_loss = average_loss * (-1)\n",
        "\n",
        "  derivative = np.copy(probs)\n",
        "  derivative[np.arange(No_of_samples), y] -= 1\n",
        "  # derivative = probs[np.arange(No_of_samples), y] - 1\n",
        "\n",
        "  return probs ,  average_loss, derivative / No_of_samples "
      ],
      "metadata": {
        "id": "CjJlq-zc759C"
      },
      "execution_count": 255,
      "outputs": []
    },
    {
      "cell_type": "code",
      "source": [
        "probs , average_loss , derivative = softmax_activation(False , out4 , batches[0][1])\n",
        "\n",
        "print(probs[0])\n",
        "print(derivative[0])\n",
        "print(average_loss)"
      ],
      "metadata": {
        "colab": {
          "base_uri": "https://localhost:8080/"
        },
        "id": "vRYLA0t2_mo4",
        "outputId": "b078152d-ceeb-470c-d328-42e824051fef"
      },
      "execution_count": 256,
      "outputs": [
        {
          "output_type": "stream",
          "name": "stdout",
          "text": [
            "[0.00907333 0.20438909 0.00407496 0.00239785 0.28726949 0.02135691\n",
            " 0.40766671 0.01248634 0.03705584 0.01422949]\n",
            "[ 7.08853931e-05  1.59678975e-03  3.18356123e-05  1.87332269e-05\n",
            "  2.24429287e-03 -7.64564913e-03  3.18489615e-03  9.75495166e-05\n",
            "  2.89498734e-04  1.11167874e-04]\n",
            "3.329787619558803\n"
          ]
        }
      ]
    },
    {
      "cell_type": "code",
      "source": [
        "def fc_layer_backward(dout, cache):\n",
        "    w = cache[0]\n",
        "    x = cache[2]\n",
        "\n",
        "    dx = np.dot(dout, w.T).reshape(x.shape)\n",
        "    dw = np.dot(x.reshape(x.shape[0], -1).T, dout)\n",
        "    db = np.sum(dout.T, axis=1)\n",
        "\n",
        "    return dw, db , dx"
      ],
      "metadata": {
        "id": "Uothm4JFREM3"
      },
      "execution_count": 257,
      "outputs": []
    },
    {
      "cell_type": "code",
      "source": [
        "dw4 , db4 , dx4 = fc_layer_backward(out4 , cache4)\n",
        "print(dw4.shape)\n",
        "print(db4.shape)\n",
        "print(dx4.shape)"
      ],
      "metadata": {
        "colab": {
          "base_uri": "https://localhost:8080/"
        },
        "id": "edWCIO1xUQB7",
        "outputId": "f50bc463-89d8-4ba3-9625-68573af9125f"
      },
      "execution_count": 258,
      "outputs": [
        {
          "output_type": "stream",
          "name": "stdout",
          "text": [
            "(1176, 10)\n",
            "(10,)\n",
            "(128, 6, 14, 14)\n"
          ]
        }
      ]
    },
    {
      "cell_type": "code",
      "source": [
        "def max_pool_backward(dout, cache):\n",
        "  \n",
        "  filter_dimension , stride , x = cache \n",
        "  N = x.shape[0]\n",
        "  C = x.shape[1]\n",
        "  H = x.shape[2]\n",
        "  W = x.shape[3]\n",
        "  H2 = dout.shape[2]\n",
        "  W2 = dout.shape[3]\n",
        "\n",
        "  dx = np.zeros_like(x)\n",
        "\n",
        "  for i in range(N):\n",
        "      current_unit_output = dout[i, :].reshape(C, H2 * W2)\n",
        "      column = 0\n",
        "      for j in range(0, H + 1 - filter_dimension, stride):\n",
        "          for k in range(0, W + 1 - filter_dimension, stride): \n",
        "              selected_block_of_x = x[i, :, j:j+filter_dimension, k:k+filter_dimension]\n",
        "              selected_block_of_x = selected_block_of_x.reshape(C, filter_dimension ** 2)\n",
        "\n",
        "              index_of_max_value_from_current_block = np.argmax(selected_block_of_x, axis=1)\n",
        "\n",
        "              current_unit_output_block = current_unit_output[:, column]\n",
        "\n",
        "              selected_block_of_x_dx_pooling = np.zeros_like(selected_block_of_x)\n",
        "              selected_block_of_x_dx_pooling[np.arange(C), index_of_max_value_from_current_block] = current_unit_output_block\n",
        "\n",
        "              dx[i, :, j:j+filter_dimension, k:k+filter_dimension] = selected_block_of_x_dx_pooling.reshape(C, filter_dimension, filter_dimension)\n",
        "\n",
        "              column += 1\n",
        "  \n",
        "  return dx"
      ],
      "metadata": {
        "id": "xhDC0KfYU2se"
      },
      "execution_count": 259,
      "outputs": []
    },
    {
      "cell_type": "code",
      "source": [
        "dx3 = max_pool_backward(dx4 , cache3)\n",
        "\n",
        "print(dx3.shape)"
      ],
      "metadata": {
        "colab": {
          "base_uri": "https://localhost:8080/"
        },
        "id": "u_Tdm_C-bimr",
        "outputId": "8b992bbb-2720-4dc2-9ff0-abe7cae0b672"
      },
      "execution_count": 260,
      "outputs": [
        {
          "output_type": "stream",
          "name": "stdout",
          "text": [
            "(128, 6, 28, 28)\n"
          ]
        }
      ]
    },
    {
      "cell_type": "code",
      "source": [
        "def relu_backward(dout, cache):\n",
        "   \n",
        "    dx = dout * cache > 0\n",
        "\n",
        "    return dx"
      ],
      "metadata": {
        "id": "EcAAdQtMcKO2"
      },
      "execution_count": 261,
      "outputs": []
    },
    {
      "cell_type": "code",
      "source": [
        "dx2 = relu_backward(dx3 , cache2)\n",
        "\n",
        "print(dx2.shape)"
      ],
      "metadata": {
        "colab": {
          "base_uri": "https://localhost:8080/"
        },
        "id": "y9NrFYf6ebKK",
        "outputId": "cda9a86c-2144-40e4-9a8d-a9d06366b193"
      },
      "execution_count": 263,
      "outputs": [
        {
          "output_type": "stream",
          "name": "stdout",
          "text": [
            "(128, 6, 28, 28)\n"
          ]
        }
      ]
    }
  ]
}