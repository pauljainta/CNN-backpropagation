{
  "nbformat": 4,
  "nbformat_minor": 0,
  "metadata": {
    "colab": {
      "name": "CNN Backprop.ipynb",
      "provenance": [],
      "authorship_tag": "ABX9TyOw/48/x+XYceC/QlNsZ4p9",
      "include_colab_link": true
    },
    "kernelspec": {
      "name": "python3",
      "display_name": "Python 3"
    },
    "language_info": {
      "name": "python"
    }
  },
  "cells": [
    {
      "cell_type": "markdown",
      "metadata": {
        "id": "view-in-github",
        "colab_type": "text"
      },
      "source": [
        "<a href=\"https://colab.research.google.com/github/pauljainta/CNN-backpropagation/blob/main/CNN_Backprop.ipynb\" target=\"_parent\"><img src=\"https://colab.research.google.com/assets/colab-badge.svg\" alt=\"Open In Colab\"/></a>"
      ]
    },
    {
      "cell_type": "code",
      "execution_count": 39,
      "metadata": {
        "id": "S6QTBZNebEW7"
      },
      "outputs": [],
      "source": [
        "from tensorflow.keras import datasets\n",
        "import numpy as np\n",
        "import matplotlib.pyplot as plt\n",
        "import math\n"
      ]
    },
    {
      "cell_type": "markdown",
      "source": [
        "**LOAD DATA**"
      ],
      "metadata": {
        "id": "9Ql-24Zjb_UG"
      }
    },
    {
      "cell_type": "code",
      "source": [
        "(x_train_mnist, y_train_mnist), (x_test_mnist, y_test_mnist) = datasets.mnist.load_data()"
      ],
      "metadata": {
        "id": "LroboPpLb-RP"
      },
      "execution_count": 40,
      "outputs": []
    },
    {
      "cell_type": "code",
      "source": [
        "# y_train_mnist = y_train_mnist.reshape(-1 , 1)\n",
        "# y_test_mnist = y_test_mnist.reshape(-1 , 1)\n",
        "\n",
        "\n",
        "print(x_train_mnist.shape)\n",
        "print(y_train_mnist.shape)\n",
        "print(y_test_mnist.shape)\n"
      ],
      "metadata": {
        "colab": {
          "base_uri": "https://localhost:8080/"
        },
        "id": "wRI1R5hQcqvB",
        "outputId": "35cae08e-3ba7-4e7b-9941-330574af2d9e"
      },
      "execution_count": 41,
      "outputs": [
        {
          "output_type": "stream",
          "name": "stdout",
          "text": [
            "(60000, 28, 28)\n",
            "(60000,)\n",
            "(10000,)\n"
          ]
        }
      ]
    },
    {
      "cell_type": "code",
      "source": [
        "plt.ylabel(\"Image\")\n",
        "plt.imshow(x_train_mnist[10, :], cmap='gray')"
      ],
      "metadata": {
        "colab": {
          "base_uri": "https://localhost:8080/",
          "height": 283
        },
        "id": "nzPt0JKterSZ",
        "outputId": "f59d9218-9072-4f00-9593-59a2fda8107f"
      },
      "execution_count": 42,
      "outputs": [
        {
          "output_type": "execute_result",
          "data": {
            "text/plain": [
              "<matplotlib.image.AxesImage at 0x7f5336374510>"
            ]
          },
          "metadata": {},
          "execution_count": 42
        },
        {
          "output_type": "display_data",
          "data": {
            "image/png": "[encoded data removed]",
            "text/plain": [
              "<Figure size 432x288 with 1 Axes>"
            ]
          },
          "metadata": {
            "needs_background": "light"
          }
        }
      ]
    },
    {
      "cell_type": "code",
      "source": [
        "type(x_train_mnist)"
      ],
      "metadata": {
        "colab": {
          "base_uri": "https://localhost:8080/"
        },
        "id": "cnaeaR_2jmic",
        "outputId": "735fe1f2-9fa9-4d84-c779-3dcc6bb80ca6"
      },
      "execution_count": 43,
      "outputs": [
        {
          "output_type": "execute_result",
          "data": {
            "text/plain": [
              "numpy.ndarray"
            ]
          },
          "metadata": {},
          "execution_count": 43
        }
      ]
    },
    {
      "cell_type": "code",
      "source": [
        "x_train_mnist = x_train_mnist[ :,np.newaxis]\n",
        "print(x_train_mnist.shape)\n",
        "\n"
      ],
      "metadata": {
        "colab": {
          "base_uri": "https://localhost:8080/"
        },
        "id": "peYrqwcmjrj6",
        "outputId": "14320c9d-1c3f-4f3f-88d1-cedfe080d3e6"
      },
      "execution_count": 44,
      "outputs": [
        {
          "output_type": "stream",
          "name": "stdout",
          "text": [
            "(60000, 1, 28, 28)\n"
          ]
        }
      ]
    },
    {
      "cell_type": "code",
      "source": [
        "x_test_mnist = x_test_mnist[ :,np.newaxis]\n",
        "print(x_test_mnist.shape)\n",
        "print(y_test_mnist.shape)\n",
        "size_of_each_batch = 32"
      ],
      "metadata": {
        "colab": {
          "base_uri": "https://localhost:8080/"
        },
        "id": "Mz6PR8TCt4_q",
        "outputId": "854d4aa2-1b0a-438b-b719-87aec3d5f849"
      },
      "execution_count": 45,
      "outputs": [
        {
          "output_type": "stream",
          "name": "stdout",
          "text": [
            "(10000, 1, 28, 28)\n",
            "(10000,)\n"
          ]
        }
      ]
    },
    {
      "cell_type": "code",
      "source": [
        "def Batch_Creation(x , y):\n",
        "  \n",
        "    global size_of_each_batch\n",
        "\n",
        "    total_number_of_batches = int(math.floor(y.shape[0] / size_of_each_batch))\n",
        "    list_of_mini_batches = []\n",
        "\n",
        "    for i in range(total_number_of_batches):\n",
        "      if y.shape[0] % size_of_each_batch != 0 and i == total_number_of_batches-1 :\n",
        "        list_of_mini_batches.append((x[i*size_of_each_batch:, :] , y[i*size_of_each_batch:] ))\n",
        "\n",
        "      list_of_mini_batches.append((x[i*size_of_each_batch:(i+1)*size_of_each_batch , :] , y[i*size_of_each_batch:(i+1)*size_of_each_batch]))\n",
        "   \n",
        "    return list_of_mini_batches\n"
      ],
      "metadata": {
        "id": "6LEtKzgWbWlI"
      },
      "execution_count": 46,
      "outputs": []
    },
    {
      "cell_type": "code",
      "source": [
        "size_of_each_batch = 128\n",
        "batches = Batch_Creation(x_train_mnist , y_train_mnist)\n",
        "print(len(batches))\n",
        "print(batches[0][1].shape)"
      ],
      "metadata": {
        "colab": {
          "base_uri": "https://localhost:8080/"
        },
        "id": "hBta9-0SejXr",
        "outputId": "2c80a952-fd26-4c6a-b323-830243951ca4"
      },
      "execution_count": 47,
      "outputs": [
        {
          "output_type": "stream",
          "name": "stdout",
          "text": [
            "469\n",
            "(128,)\n"
          ]
        }
      ]
    },
    {
      "cell_type": "code",
      "source": [
        "def zero_padding(x , padding):\n",
        "  return np.pad(x, ((0, 0), (0, 0), (padding, padding), (padding, padding)), mode='constant')"
      ],
      "metadata": {
        "id": "mwM0FHHQhMgS"
      },
      "execution_count": 48,
      "outputs": []
    },
    {
      "cell_type": "code",
      "source": [
        "np.random.seed(1)\n",
        "x = np.random.randn(4, 3, 3, 2)\n",
        "x_pad = zero_padding(x, 2)\n",
        "print (\"x.shape =\\n\", x.shape)\n",
        "print (\"x_pad.shape =\\n\", x_pad.shape)\n",
        "print (\"x[1,1] =\\n\", x[1,1])\n",
        "print (\"x_pad[1,1] =\\n\", x_pad[1,1])"
      ],
      "metadata": {
        "colab": {
          "base_uri": "https://localhost:8080/"
        },
        "id": "w9qHV78Fhn43",
        "outputId": "46916ec8-059e-40c5-d6a3-0af2c279bd68"
      },
      "execution_count": 49,
      "outputs": [
        {
          "output_type": "stream",
          "name": "stdout",
          "text": [
            "x.shape =\n",
            " (4, 3, 3, 2)\n",
            "x_pad.shape =\n",
            " (4, 3, 7, 6)\n",
            "x[1,1] =\n",
            " [[ 0.90085595 -0.68372786]\n",
            " [-0.12289023 -0.93576943]\n",
            " [-0.26788808  0.53035547]]\n",
            "x_pad[1,1] =\n",
            " [[ 0.          0.          0.          0.          0.          0.        ]\n",
            " [ 0.          0.          0.          0.          0.          0.        ]\n",
            " [ 0.          0.          0.90085595 -0.68372786  0.          0.        ]\n",
            " [ 0.          0.         -0.12289023 -0.93576943  0.          0.        ]\n",
            " [ 0.          0.         -0.26788808  0.53035547  0.          0.        ]\n",
            " [ 0.          0.          0.          0.          0.          0.        ]\n",
            " [ 0.          0.          0.          0.          0.          0.        ]]\n"
          ]
        }
      ]
    },
    {
      "cell_type": "code",
      "source": [
        "def convolutional_layer_forward(stride , padding , w , b , x):\n",
        "\n",
        "    padded_x = zero_padding(x , padding)\n",
        "\n",
        "    N = x.shape[0]\n",
        "    C = x.shape[1]\n",
        "    H = x.shape[2]\n",
        "    W = x.shape[3]\n",
        "\n",
        "    F = w.shape[0]\n",
        "    FH = w.shape[2]\n",
        "    FW = w.shape[3]\n",
        "\n",
        "    W2 = int((W - FW + 2*padding)/stride + 1)\n",
        "    H2 = int((H - FH + 2*padding)/stride + 1)\n",
        "\n",
        "    all_selected_column_x = np.zeros((C * FH * FW, H2 * W2))\n",
        "    all_selected_row_w = w.reshape(F, C * FH * FW)\n",
        "\n",
        "    output = np.zeros((N, F, H2, W2))\n",
        "\n",
        "\n",
        "    for i in range(N):\n",
        "        column = 0\n",
        "        for j in range(0, padded_x.shape[2] + 1 - FH, stride):\n",
        "            for k in range(0, padded_x.shape[3]  + 1 - FW, stride):\n",
        "                temp = padded_x[i, :, j:j+FH, k:k+FW]\n",
        "                all_selected_column_x[:, column] = temp.reshape(C * FH * FW)\n",
        "                column += 1\n",
        "        \n",
        "        current_unit_output = np.dot(all_selected_row_w, all_selected_column_x) + (b.reshape(-1, 1))\n",
        "        output[i, :, :, :] = current_unit_output.reshape(F, H2, W2)\n",
        "\n",
        "  \n",
        "    return output, (stride, padding , w , x , b)\n"
      ],
      "metadata": {
        "id": "AP_OCVEciATJ"
      },
      "execution_count": 60,
      "outputs": []
    },
    {
      "cell_type": "code",
      "source": [
        "w1 = np.random.normal(0.0, 0.01, (6, 1, 5, 5))\n",
        "b1 = np.zeros((6, ))\n",
        "\n",
        "out1 , cache1 = convolutional_layer_forward(1 , 2 , w1 , b1 , batches[0][0])\n",
        "\n",
        "print(out1.shape)"
      ],
      "metadata": {
        "colab": {
          "base_uri": "https://localhost:8080/"
        },
        "id": "RQnQq1xtpNq6",
        "outputId": "f806fa02-d373-48f3-c038-c6df3f6189a8"
      },
      "execution_count": 64,
      "outputs": [
        {
          "output_type": "stream",
          "name": "stdout",
          "text": [
            "(128, 6, 28, 28)\n"
          ]
        }
      ]
    },
    {
      "cell_type": "code",
      "source": [
        "def relu_forward(x):\n",
        "  return np.maximum(0 , x) , x"
      ],
      "metadata": {
        "id": "hXUD_fImx01E"
      },
      "execution_count": 63,
      "outputs": []
    },
    {
      "cell_type": "code",
      "source": [
        "out2 , cache2 = relu_forward(out1)\n",
        "\n",
        "print(out2[0])"
      ],
      "metadata": {
        "colab": {
          "base_uri": "https://localhost:8080/"
        },
        "id": "pyzWsRndyRuX",
        "outputId": "4776d071-2708-4803-9765-d5284e4436f7"
      },
      "execution_count": 65,
      "outputs": [
        {
          "output_type": "stream",
          "name": "stdout",
          "text": [
            "[[[0.         0.         0.         ... 0.         0.         0.        ]\n",
            "  [0.         0.         0.         ... 0.         0.         0.        ]\n",
            "  [0.         0.         0.         ... 0.         0.         0.        ]\n",
            "  ...\n",
            "  [0.         0.         0.         ... 0.         0.         0.        ]\n",
            "  [0.         0.         0.         ... 0.         0.         0.        ]\n",
            "  [0.         0.         0.         ... 0.         0.         0.        ]]\n",
            "\n",
            " [[0.         0.         0.         ... 0.         0.         0.        ]\n",
            "  [0.         0.         0.         ... 0.         0.         0.        ]\n",
            "  [0.         0.         0.         ... 0.         0.         0.        ]\n",
            "  ...\n",
            "  [0.         0.         0.         ... 0.         0.         0.        ]\n",
            "  [0.         0.         0.         ... 0.         0.         0.        ]\n",
            "  [0.         0.         0.         ... 0.         0.         0.        ]]\n",
            "\n",
            " [[0.         0.         0.         ... 0.         0.         0.        ]\n",
            "  [0.         0.         0.         ... 0.         0.         0.        ]\n",
            "  [0.         0.         0.         ... 0.         0.         0.        ]\n",
            "  ...\n",
            "  [0.         0.         0.         ... 0.         0.         0.        ]\n",
            "  [0.         0.         0.04922855 ... 0.         0.         0.        ]\n",
            "  [0.         0.         0.         ... 0.         0.         0.        ]]\n",
            "\n",
            " [[0.         0.         0.         ... 0.         0.         0.        ]\n",
            "  [0.         0.         0.         ... 0.         0.         0.        ]\n",
            "  [0.         0.         0.         ... 0.         0.         0.        ]\n",
            "  ...\n",
            "  [0.         0.         0.23008508 ... 0.         0.         0.        ]\n",
            "  [0.         0.         0.         ... 0.         0.         0.        ]\n",
            "  [0.         0.         0.         ... 0.         0.         0.        ]]\n",
            "\n",
            " [[0.         0.         0.         ... 0.         0.         0.        ]\n",
            "  [0.         0.         0.         ... 0.         0.         0.        ]\n",
            "  [0.         0.         0.         ... 0.         0.         0.        ]\n",
            "  ...\n",
            "  [0.         0.         0.86780397 ... 0.         0.         0.        ]\n",
            "  [0.         0.         1.59833319 ... 0.         0.         0.        ]\n",
            "  [0.         0.         0.         ... 0.         0.         0.        ]]\n",
            "\n",
            " [[0.         0.         0.         ... 0.         0.         0.        ]\n",
            "  [0.         0.         0.         ... 0.         0.         0.        ]\n",
            "  [0.         0.         0.         ... 0.         0.         0.        ]\n",
            "  ...\n",
            "  [0.         0.         0.         ... 0.         0.         0.        ]\n",
            "  [0.         0.         2.70172855 ... 0.         0.         0.        ]\n",
            "  [0.         0.         0.         ... 0.         0.         0.        ]]]\n"
          ]
        }
      ]
    },
    {
      "cell_type": "code",
      "source": [
        "def pooling_layer_forward(stride , filter_dimension , x):\n",
        "  N = x.shape[0]\n",
        "  C = x.shape[1]\n",
        "  H = x.shape[2]\n",
        "  W = x.shape[3]\n",
        "\n",
        "  H2 = math.floor((H - filter_dimension) / stride) + 1\n",
        "  W2 = math.floor((W - filter_dimension) / stride) + 1\n",
        "\n",
        "  output = np.zeros((N, C, H2, W2))\n",
        "\n",
        "  for i in range(N):\n",
        "      current_unit_output = np.zeros((C, H2* W2))\n",
        "      column = 0\n",
        "      for j in range(0, H - filter_dimension + 1, stride):\n",
        "          for k in range(0, W - filter_dimension + 1, stride):\n",
        "              selected_block_of_x = x[i, :, j:j+filter_dimension, k:k+filter_dimension]\n",
        "              selected_block_of_x = selected_block_of_x.reshape(C, filter_dimension ** 2)\n",
        "\n",
        "              max_value_from_current_block = np.max(selected_block_of_x, axis=1)\n",
        "              current_unit_output[:, column] = max_value_from_current_block\n",
        "\n",
        "              column += 1\n",
        "              \n",
        "      output[i, :, :, :] = current_unit_output.reshape(C, H2 , W2)\n",
        "\n",
        "  return output, (filter_dimension , stride , x) \n"
      ],
      "metadata": {
        "id": "hUH7Ff5WsC_P"
      },
      "execution_count": 62,
      "outputs": []
    },
    {
      "cell_type": "code",
      "source": [
        "out3 , cache3 = pooling_layer_forward(2 , 2 , out2)\n",
        "\n",
        "print(out3.shape)\n",
        "print(out3[0])"
      ],
      "metadata": {
        "colab": {
          "base_uri": "https://localhost:8080/"
        },
        "id": "ugdwAWpuwAuq",
        "outputId": "dcd1b3b9-e0a4-4987-c084-14164c9b06f8"
      },
      "execution_count": 67,
      "outputs": [
        {
          "output_type": "stream",
          "name": "stdout",
          "text": [
            "(128, 6, 14, 14)\n",
            "[[[0.         0.         0.         ... 0.         0.         0.        ]\n",
            "  [0.         0.         0.         ... 5.5130937  1.8646669  0.        ]\n",
            "  [0.         0.         0.         ... 4.55167822 2.84220029 0.        ]\n",
            "  ...\n",
            "  [0.         0.13640949 0.         ... 0.         0.         0.        ]\n",
            "  [0.         0.         0.         ... 0.         0.         0.        ]\n",
            "  [0.         0.         0.         ... 0.         0.         0.        ]]\n",
            "\n",
            " [[0.         0.         0.         ... 0.         0.         0.        ]\n",
            "  [0.         0.         0.         ... 0.         0.         0.        ]\n",
            "  [0.         0.         0.         ... 6.30045751 0.         0.        ]\n",
            "  ...\n",
            "  [0.         0.0165649  5.63696501 ... 0.         0.         0.        ]\n",
            "  [0.         0.         0.         ... 0.         0.         0.        ]\n",
            "  [0.         0.         0.         ... 0.         0.         0.        ]]\n",
            "\n",
            " [[0.         0.         0.         ... 0.         0.         0.        ]\n",
            "  [0.         0.         0.         ... 0.         1.32652422 0.        ]\n",
            "  [0.         0.         0.28744307 ... 1.98448227 1.24589396 0.        ]\n",
            "  ...\n",
            "  [0.         3.07690778 4.41350718 ... 0.         0.         0.        ]\n",
            "  [0.         6.35767375 8.50176263 ... 0.         0.         0.        ]\n",
            "  [0.         2.03304343 4.75412564 ... 0.         0.         0.        ]]\n",
            "\n",
            " [[0.         0.         0.         ... 0.         0.         0.        ]\n",
            "  [0.         0.         0.         ... 0.         0.         0.        ]\n",
            "  [0.         0.         0.23710299 ... 3.20373124 3.4097938  0.        ]\n",
            "  ...\n",
            "  [0.         0.66602839 0.2378842  ... 0.         0.         0.        ]\n",
            "  [0.         1.89464905 5.97321441 ... 0.         0.         0.        ]\n",
            "  [0.         0.         0.         ... 0.         0.         0.        ]]\n",
            "\n",
            " [[0.         0.         0.         ... 0.         0.         0.        ]\n",
            "  [0.         0.         0.         ... 1.7018578  1.65632906 0.        ]\n",
            "  [0.         0.         0.04709593 ... 2.78863165 1.60441936 0.        ]\n",
            "  ...\n",
            "  [0.         1.89505015 1.81414353 ... 0.         0.         0.        ]\n",
            "  [0.         2.80734617 6.75608296 ... 0.         0.         0.        ]\n",
            "  [0.         1.78907972 7.94599637 ... 0.         0.         0.        ]]\n",
            "\n",
            " [[0.         0.         0.         ... 0.         0.         0.        ]\n",
            "  [0.         0.         0.         ... 3.13912781 0.41537688 0.        ]\n",
            "  [0.         0.         0.55985632 ... 3.80732906 1.26876739 0.        ]\n",
            "  ...\n",
            "  [0.         0.28446575 1.91200017 ... 0.         0.         0.        ]\n",
            "  [0.         0.45280813 1.25765898 ... 0.         0.         0.        ]\n",
            "  [0.         4.84446514 7.13496548 ... 0.         0.         0.        ]]]\n"
          ]
        }
      ]
    },
    {
      "cell_type": "code",
      "source": [
        ""
      ],
      "metadata": {
        "id": "EL__PmvC2wqS"
      },
      "execution_count": null,
      "outputs": []
    }
  ]
}